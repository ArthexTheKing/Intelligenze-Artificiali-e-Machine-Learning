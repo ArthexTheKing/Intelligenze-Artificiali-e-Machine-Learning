{
 "cells": [
  {
   "cell_type": "code",
   "execution_count": 2,
   "metadata": {},
   "outputs": [
    {
     "name": "stdout",
     "output_type": "stream",
     "text": [
      "Python Version: 3.11.3 | packaged by Anaconda, Inc. | (main, Apr 19 2023, 23:46:34) [MSC v.1916 64 bit (AMD64)]\n",
      "Pandas Version: 1.5.3\n",
      "Numpy Version: 1.24.3\n",
      "Matplotlib Version: 3.7.1\n",
      "Scipy Version: 1.10.1\n",
      "Scikit-learn Version: 1.2.2\n"
     ]
    }
   ],
   "source": [
    "import sys\n",
    "print(f'Python Version: {sys.version}')\n",
    "\n",
    "import pandas\n",
    "print(f'Pandas Version: {pandas.__version__}')\n",
    "\n",
    "import numpy\n",
    "print(f'Numpy Version: {numpy.__version__}')\n",
    "\n",
    "import matplotlib\n",
    "print(f'Matplotlib Version: {matplotlib.__version__}')\n",
    "\n",
    "import scipy\n",
    "print(f'Scipy Version: {scipy.__version__}')\n",
    "\n",
    "import sklearn\n",
    "print(f'Scikit-learn Version: {sklearn.__version__}')"
   ]
  }
 ],
 "metadata": {
  "kernelspec": {
   "display_name": "ML",
   "language": "python",
   "name": "python3"
  },
  "language_info": {
   "codemirror_mode": {
    "name": "ipython",
    "version": 3
   },
   "file_extension": ".py",
   "mimetype": "text/x-python",
   "name": "python",
   "nbconvert_exporter": "python",
   "pygments_lexer": "ipython3",
   "version": "3.11.3"
  },
  "orig_nbformat": 4
 },
 "nbformat": 4,
 "nbformat_minor": 2
}
