{
 "cells": [
  {
   "cell_type": "code",
   "execution_count": 1,
   "metadata": {},
   "outputs": [],
   "source": [
    "from queue import PriorityQueue"
   ]
  },
  {
   "cell_type": "code",
   "execution_count": 2,
   "metadata": {},
   "outputs": [],
   "source": [
    "grafo_degli_stati = {\n",
    "\n",
    "    'Arad': [['Sibiu', 140], ['Timisoara', 118], ['Zerind',  75]],\n",
    "    'Bucarest': [['Fagaras', 211], ['Giurgiu', 90], ['Pitesti', 101], ['Urziceni', 85]],\n",
    "    'Craiova': [['Drobeta', 120], ['Pitesti', 138], ['Rimnicu Vilcea', 146]],\n",
    "    'Drobeta': [['Craiova', 120], ['Mehadia', 75]],\n",
    "    'Eforie': [['Hirsova', 86]],\n",
    "    'Fagaras': [['Bucarest', 211], ['Sibiu', 99]],\n",
    "    'Giurgiu': [['Bucarest', 90]],\n",
    "    'Hirsova': [['Eforie', 86], ['Urziceni', 98]],\n",
    "    'Iasi': [['Neamt', 87], ['Vaslui', 92]],\n",
    "    'Lugoj': [['Mehadia', 70], ['Timisoara', 111]],\n",
    "    'Mehadia': [['Drobeta', 75], ['Lugoj', 70]],\n",
    "    'Neamt': [['Iasi', 87]],\n",
    "    'Oradea': [['Sibiu', 151], ['Zerind', 71]],\n",
    "    'Pitesti': [['Bucarest', 101], ['Craiova', 138], ['Rimnicu Vilcea', 97]],\n",
    "    'Rimnicu Vilcea': [['Craiova', 146], ['Pitesti', 97], ['Sibiu', 80]],\n",
    "    'Sibiu': [['Arad', 140], ['Fagaras', 99], ['Oradea', 151], ['Rimnicu Vilcea', 80]],\n",
    "    'Timisoara': [['Arad', 118], ['Lugoj', 111]],\n",
    "    'Urziceni': [['Bucarest', 85], ['Hirsova', 98], ['Vaslui', 142]],\n",
    "    'Vaslui': [['Iasi', 92], ['Urziceni', 142]],\n",
    "    'Zerind': [['Arad', 75], ['Oradea', 71]]  \n",
    "\n",
    "}"
   ]
  },
  {
   "cell_type": "code",
   "execution_count": 3,
   "metadata": {},
   "outputs": [],
   "source": [
    "funzione_euristica = {\n",
    "\n",
    "    'Arad': 366,\n",
    "    'Bucarest': 0,\n",
    "    'Craiova': 160,\n",
    "    'Drobeta': 242,\n",
    "    'Eforie': 161,\n",
    "    'Fagaras': 176,\n",
    "    'Giurgiu': 77,\n",
    "    'Hirsova': 151,\n",
    "    'Iasi': 226,\n",
    "    'Lugoj': 244,\n",
    "    'Mehadia': 241,\n",
    "    'Neamt': 234,\n",
    "    'Oradea': 380,\n",
    "    'Pitesti': 100,\n",
    "    'Rimnicu Vilcea': 193,\n",
    "    'Sibiu': 253,\n",
    "    'Timisoara': 329,\n",
    "    'Urziceni': 80,\n",
    "    'Vaslui': 199,\n",
    "    'Zerind': 374\n",
    "\n",
    "}"
   ]
  },
  {
   "cell_type": "code",
   "execution_count": 4,
   "metadata": {},
   "outputs": [],
   "source": [
    "def verifica_stato_obiettivo(stato: str):\n",
    "    return stato == 'Bucarest'"
   ]
  },
  {
   "cell_type": "code",
   "execution_count": 5,
   "metadata": {},
   "outputs": [],
   "source": [
    "class NodoAlbero:\n",
    "\n",
    "    def __init__(self, stato: str, cammino_parziale: int, f_valutazione: int, padre: 'NodoAlbero' = None):\n",
    "        self.stato = stato\n",
    "        self.cammino_parziale = cammino_parziale\n",
    "        self.f_valutazione = f_valutazione\n",
    "        self.padre = padre\n",
    "\n",
    "    def __lt__(self, obj: 'NodoAlbero'):\n",
    "        return self.f_valutazione < obj.f_valutazione\n",
    "    \n",
    "    def stampa_cammino(self):\n",
    "        if self.padre != None:\n",
    "            self.padre.stampa_cammino()\n",
    "        print(f'{self.stato} ->', end = ' ')"
   ]
  },
  {
   "cell_type": "code",
   "execution_count": 6,
   "metadata": {},
   "outputs": [],
   "source": [
    "def a_star_tree_search(stato_iniziale: str):\n",
    "\n",
    "    frontiera = PriorityQueue()\n",
    "    frontiera.put(NodoAlbero(stato_iniziale, 0, funzione_euristica[stato_iniziale]))\n",
    "\n",
    "    while not frontiera.empty():\n",
    "\n",
    "        nodo_corrente: NodoAlbero = frontiera.get()\n",
    "        stato_corrente = nodo_corrente.stato\n",
    "\n",
    "        if verifica_stato_obiettivo(stato_corrente):\n",
    "            print('Stato Obiettivo Raggiunto')\n",
    "            print('Soluzione:')\n",
    "            nodo_corrente.stampa_cammino()\n",
    "            break\n",
    "        \n",
    "        for stato_espanso, distanza in grafo_degli_stati[stato_corrente]:\n",
    "            cammino_parziale = nodo_corrente.cammino_parziale + distanza\n",
    "            f_valutazione = cammino_parziale + funzione_euristica[stato_espanso]\n",
    "            frontiera.put(NodoAlbero(stato_espanso, cammino_parziale, f_valutazione, nodo_corrente))"
   ]
  },
  {
   "cell_type": "code",
   "execution_count": 7,
   "metadata": {},
   "outputs": [],
   "source": [
    "def a_star_graph_search(stato_iniziale: str):\n",
    "\n",
    "    frontiera = PriorityQueue()\n",
    "    frontiera.put(NodoAlbero(stato_iniziale, 0, funzione_euristica[stato_iniziale]))\n",
    "\n",
    "    close = []\n",
    "\n",
    "    while not frontiera.empty():\n",
    "\n",
    "        nodo_corrente: NodoAlbero = frontiera.get()\n",
    "        stato_corrente = nodo_corrente.stato\n",
    "\n",
    "        if verifica_stato_obiettivo(stato_corrente):\n",
    "            print('Stato Obiettivo Raggiunto')\n",
    "            print('Soluzione')\n",
    "            nodo_corrente.stampa_cammino()\n",
    "            break\n",
    "        else:\n",
    "            close.append(stato_corrente)\n",
    "\n",
    "        for stato_espanso, distanza in grafo_degli_stati[stato_corrente]:\n",
    "            if stato_espanso not in close:\n",
    "                cammino_parziale = nodo_corrente.cammino_parziale + distanza\n",
    "                f_valutazione = cammino_parziale + funzione_euristica[stato_espanso]\n",
    "                frontiera.put(NodoAlbero(stato_espanso, cammino_parziale, f_valutazione, nodo_corrente))"
   ]
  },
  {
   "cell_type": "code",
   "execution_count": 8,
   "metadata": {},
   "outputs": [
    {
     "name": "stdout",
     "output_type": "stream",
     "text": [
      "Stato Obiettivo Raggiunto\n",
      "Soluzione:\n",
      "Arad -> Sibiu -> Rimnicu Vilcea -> Pitesti -> Bucarest -> "
     ]
    }
   ],
   "source": [
    "a_star_tree_search('Arad')"
   ]
  },
  {
   "cell_type": "code",
   "execution_count": 9,
   "metadata": {},
   "outputs": [
    {
     "name": "stdout",
     "output_type": "stream",
     "text": [
      "Stato Obiettivo Raggiunto\n",
      "Soluzione\n",
      "Arad -> Sibiu -> Rimnicu Vilcea -> Pitesti -> Bucarest -> "
     ]
    }
   ],
   "source": [
    "a_star_graph_search('Arad')"
   ]
  }
 ],
 "metadata": {
  "kernelspec": {
   "display_name": "Python 3",
   "language": "python",
   "name": "python3"
  },
  "language_info": {
   "codemirror_mode": {
    "name": "ipython",
    "version": 3
   },
   "file_extension": ".py",
   "mimetype": "text/x-python",
   "name": "python",
   "nbconvert_exporter": "python",
   "pygments_lexer": "ipython3",
   "version": "3.11.2"
  },
  "orig_nbformat": 4
 },
 "nbformat": 4,
 "nbformat_minor": 2
}
