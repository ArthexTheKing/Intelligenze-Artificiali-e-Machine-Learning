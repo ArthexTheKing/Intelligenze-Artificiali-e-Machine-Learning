{
 "cells": [
  {
   "cell_type": "code",
   "execution_count": 1,
   "metadata": {},
   "outputs": [],
   "source": [
    "from queue import PriorityQueue"
   ]
  },
  {
   "cell_type": "code",
   "execution_count": 2,
   "metadata": {},
   "outputs": [],
   "source": [
    "grafo_degli_stati = {\n",
    "\n",
    "    'Arad': ['Sibiu', 'Timisoara', 'Zerind'],\n",
    "    'Bucarest': ['Fagaras', 'Giurgiu', 'Pitesti', 'Urziceni'],\n",
    "    'Craiova': ['Drobeta', 'Pitesti', 'Rimnicu Vilcea'], \n",
    "    'Drobeta': ['Craiova', 'Mehadia'],\n",
    "    'Eforie': ['Hirsova'],\n",
    "    'Fagaras': ['Bucarest', 'Sibiu'],\n",
    "    'Giurgiu': ['Bucarest'],\n",
    "    'Hirsova': ['Eforie', 'Urziceni'],\n",
    "    'Iasi': ['Neamt', 'Vaslui'],\n",
    "    'Lugoj': ['Mehadia', 'Timisoara'], \n",
    "    'Mehadia': ['Drobeta', 'Lugoj'],\n",
    "    'Neamt': ['Iasi'],\n",
    "    'Oradea': ['Sibiu', 'Zerind'],\n",
    "    'Pitesti': ['Bucarest', 'Craiova', 'Rimnicu Vilcea'],\n",
    "    'Rimnicu Vilcea': ['Craiova', 'Pitesti', 'Sibiu'],\n",
    "    'Sibiu': ['Arad', 'Fagaras', 'Oradea', 'Rimnicu Vilcea'],\n",
    "    'Timisoara': ['Arad', 'Lugoj'], \n",
    "    'Urziceni': ['Bucarest', 'Hirsova', 'Vaslui'],\n",
    "    'Vaslui': ['Iasi', 'Urziceni'], \n",
    "    'Zerind': ['Arad', 'Oradea']  \n",
    "\n",
    "}"
   ]
  },
  {
   "cell_type": "code",
   "execution_count": 3,
   "metadata": {},
   "outputs": [],
   "source": [
    "funzione_euristica = {\n",
    "\n",
    "    'Arad': 366,\n",
    "    'Bucarest': 0,\n",
    "    'Craiova': 160,\n",
    "    'Drobeta': 242,\n",
    "    'Eforie': 161,\n",
    "    'Fagaras': 176,\n",
    "    'Giurgiu': 77,\n",
    "    'Hirsova': 151,\n",
    "    'Iasi': 226,\n",
    "    'Lugoj': 244,\n",
    "    'Mehadia': 241,\n",
    "    'Neamt': 234,\n",
    "    'Oradea': 380,\n",
    "    'Pitesti': 100,\n",
    "    'Rimnicu Vilcea': 193,\n",
    "    'Sibiu': 253,\n",
    "    'Timisoara': 329,\n",
    "    'Urziceni': 80,\n",
    "    'Vaslui': 199,\n",
    "    'Zerind': 374\n",
    "\n",
    "}"
   ]
  },
  {
   "cell_type": "code",
   "execution_count": 4,
   "metadata": {},
   "outputs": [],
   "source": [
    "def verifica_stato_obiettivo(stato: str):\n",
    "    return stato == 'Bucarest'"
   ]
  },
  {
   "cell_type": "code",
   "execution_count": 5,
   "metadata": {},
   "outputs": [],
   "source": [
    "class NodoAlbero:\n",
    "\n",
    "    def __init__(self, stato: str, euristica: int, padre: 'NodoAlbero' = None):\n",
    "        self.stato = stato\n",
    "        self.euristica = euristica\n",
    "        self.padre = padre\n",
    "    \n",
    "    def __lt__(self, obj: 'NodoAlbero'):\n",
    "        return self.euristica < obj.euristica\n",
    "    \n",
    "    def stampa_cammino(self):\n",
    "        if self.padre != None:\n",
    "            self.padre.stampa_cammino()\n",
    "        print(f'{self.stato} ->', end = ' ')"
   ]
  },
  {
   "cell_type": "code",
   "execution_count": 6,
   "metadata": {},
   "outputs": [],
   "source": [
    "def greedy_graph_search():\n",
    "\n",
    "    frontiera = PriorityQueue()\n",
    "    frontiera.put(NodoAlbero('Arad', funzione_euristica['Arad']))\n",
    "\n",
    "    close = []\n",
    "\n",
    "    while not frontiera.empty():\n",
    "\n",
    "        nodo_corrente: NodoAlbero = frontiera.get()\n",
    "        stato_corrente = nodo_corrente.stato\n",
    "\n",
    "        if verifica_stato_obiettivo(stato_corrente):\n",
    "            print('Stato Obiettivo Raggiunto')\n",
    "            print('Soluzione:')\n",
    "            nodo_corrente.stampa_cammino()\n",
    "            break\n",
    "        else:\n",
    "            close.append(stato_corrente)\n",
    "\n",
    "        for stato_espanso in grafo_degli_stati[stato_corrente]:\n",
    "            if stato_espanso not in close:\n",
    "                frontiera.put(NodoAlbero(stato_espanso, funzione_euristica[stato_espanso], nodo_corrente))"
   ]
  },
  {
   "cell_type": "code",
   "execution_count": 7,
   "metadata": {},
   "outputs": [
    {
     "name": "stdout",
     "output_type": "stream",
     "text": [
      "Stato Obiettivo Raggiunto\n",
      "Soluzione:\n",
      "Arad -> Sibiu -> Fagaras -> Bucarest -> "
     ]
    }
   ],
   "source": [
    "greedy_graph_search()"
   ]
  }
 ],
 "metadata": {
  "kernelspec": {
   "display_name": "base",
   "language": "python",
   "name": "python3"
  },
  "language_info": {
   "codemirror_mode": {
    "name": "ipython",
    "version": 3
   },
   "file_extension": ".py",
   "mimetype": "text/x-python",
   "name": "python",
   "nbconvert_exporter": "python",
   "pygments_lexer": "ipython3",
   "version": "3.11.2"
  },
  "orig_nbformat": 4
 },
 "nbformat": 4,
 "nbformat_minor": 2
}
