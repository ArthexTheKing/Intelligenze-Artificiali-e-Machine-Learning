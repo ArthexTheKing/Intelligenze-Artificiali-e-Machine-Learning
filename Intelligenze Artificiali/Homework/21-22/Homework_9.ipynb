{
 "cells": [
  {
   "attachments": {},
   "cell_type": "markdown",
   "metadata": {},
   "source": [
    "## Hill Climbing Stringa"
   ]
  },
  {
   "cell_type": "code",
   "execution_count": 12,
   "metadata": {},
   "outputs": [],
   "source": [
    "from random import choice, randint\n",
    "from string import printable"
   ]
  },
  {
   "cell_type": "code",
   "execution_count": 13,
   "metadata": {},
   "outputs": [],
   "source": [
    "def genera_stringa_random(lunghezza: int):\n",
    "    return [choice(printable) for _ in range(lunghezza)]"
   ]
  },
  {
   "cell_type": "code",
   "execution_count": 14,
   "metadata": {},
   "outputs": [],
   "source": [
    "def funzione_di_successione(stato: list):\n",
    "    succ = stato.copy()\n",
    "    index = randint(0, len(stato) - 1)\n",
    "    succ[index] = choice(printable)\n",
    "    return succ"
   ]
  },
  {
   "cell_type": "code",
   "execution_count": 15,
   "metadata": {},
   "outputs": [],
   "source": [
    "def funzione_di_valutazione(stato: list):\n",
    "    obiettivo = list('Roma Tre')\n",
    "    distanza = 0\n",
    "    for i in range(len(stato)):\n",
    "        c1 = stato[i]\n",
    "        c2 = obiettivo[i]\n",
    "        diff = abs(ord(c1) - ord(c2))\n",
    "        distanza += diff\n",
    "    return distanza"
   ]
  },
  {
   "cell_type": "code",
   "execution_count": 16,
   "metadata": {},
   "outputs": [],
   "source": [
    "def hill_climbing():\n",
    "    attuale = genera_stringa_random(8)\n",
    "    attuale_val = funzione_di_valutazione(attuale)\n",
    "\n",
    "    while attuale_val != 0:\n",
    "        successivo = funzione_di_successione(attuale)\n",
    "        successivo_val = funzione_di_valutazione(successivo)\n",
    "\n",
    "        if successivo_val < attuale_val:\n",
    "            attuale = successivo\n",
    "            attuale_val = successivo_val\n",
    "\n",
    "            print(f'{attuale}, {attuale_val}')"
   ]
  },
  {
   "cell_type": "code",
   "execution_count": 17,
   "metadata": {},
   "outputs": [
    {
     "name": "stdout",
     "output_type": "stream",
     "text": [
      "['e', 'g', 'E', 'n', 'J', ']', 'm', '='], 176\n",
      "['e', 'g', 'E', 'n', 'J', 'U', 'm', '='], 168\n",
      "['e', 'g', 'W', 'n', 'J', 'U', 'm', '='], 150\n",
      "['e', 'g', 'd', 'n', 'J', 'U', 'm', '='], 137\n",
      "['e', 'k', 'd', 'n', 'J', 'U', 'm', '='], 133\n",
      "['e', 'k', 'd', 'n', 'J', 'U', 'm', 'y'], 113\n",
      "['e', 'm', 'd', 'n', 'J', 'U', 'm', 'y'], 111\n",
      "['e', 'm', 'd', 'n', 'C', 'U', 'm', 'y'], 104\n",
      "['e', 'm', 'k', 'n', 'C', 'U', 'm', 'y'], 97\n",
      "['e', 'm', 'k', 'n', 'C', 'U', 'm', 'W'], 91\n",
      "['B', 'm', 'k', 'n', 'C', 'U', 'm', 'W'], 88\n",
      "['B', 'm', 'k', 'n', '(', 'U', 'm', 'W'], 61\n",
      "['B', 'm', 'k', 'n', '(', 'U', 'm', 'c'], 49\n",
      "['B', 'm', 'l', 'n', '(', 'U', 'm', 'c'], 48\n",
      "['B', 'm', 'l', 'b', '(', 'U', 'm', 'c'], 36\n",
      "['X', 'm', 'l', 'b', '(', 'U', 'm', 'c'], 26\n",
      "['X', 'm', 'l', 'b', '!', 'U', 'm', 'c'], 19\n",
      "['M', 'm', 'l', 'b', '!', 'U', 'm', 'c'], 18\n",
      "['M', 'm', 'm', 'b', '!', 'U', 'm', 'c'], 17\n",
      "['M', 'm', 'm', 'b', '!', 'U', 'm', 'd'], 16\n",
      "['V', 'm', 'm', 'b', '!', 'U', 'm', 'd'], 15\n",
      "['V', 'o', 'm', 'b', '!', 'U', 'm', 'd'], 13\n",
      "['V', 'o', 'm', 'b', '!', 'U', 'n', 'd'], 12\n",
      "['V', 'o', 'm', 'b', '!', 'U', 'r', 'd'], 8\n",
      "['V', 'o', 'm', 'b', '!', 'U', 'r', 'e'], 7\n",
      "['U', 'o', 'm', 'b', '!', 'U', 'r', 'e'], 6\n",
      "['T', 'o', 'm', 'b', '!', 'U', 'r', 'e'], 5\n",
      "['T', 'o', 'm', 'b', '!', 'T', 'r', 'e'], 4\n",
      "['S', 'o', 'm', 'b', '!', 'T', 'r', 'e'], 3\n",
      "['S', 'o', 'm', 'b', ' ', 'T', 'r', 'e'], 2\n",
      "['R', 'o', 'm', 'b', ' ', 'T', 'r', 'e'], 1\n",
      "['R', 'o', 'm', 'a', ' ', 'T', 'r', 'e'], 0\n"
     ]
    }
   ],
   "source": [
    "hill_climbing()"
   ]
  }
 ],
 "metadata": {
  "kernelspec": {
   "display_name": "Python 3",
   "language": "python",
   "name": "python3"
  },
  "language_info": {
   "codemirror_mode": {
    "name": "ipython",
    "version": 3
   },
   "file_extension": ".py",
   "mimetype": "text/x-python",
   "name": "python",
   "nbconvert_exporter": "python",
   "pygments_lexer": "ipython3",
   "version": "3.11.2"
  },
  "orig_nbformat": 4
 },
 "nbformat": 4,
 "nbformat_minor": 2
}
