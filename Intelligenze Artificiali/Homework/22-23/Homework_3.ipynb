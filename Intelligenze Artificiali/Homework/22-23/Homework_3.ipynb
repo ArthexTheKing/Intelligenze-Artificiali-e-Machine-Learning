{
 "cells": [
  {
   "attachments": {},
   "cell_type": "markdown",
   "metadata": {},
   "source": [
    "## Esercizio 1"
   ]
  },
  {
   "cell_type": "code",
   "execution_count": 22,
   "metadata": {},
   "outputs": [],
   "source": [
    "def fatt(x):\n",
    "    if x == 0:\n",
    "        return 1\n",
    "    else:\n",
    "        return x * fatt(x - 1)"
   ]
  },
  {
   "cell_type": "code",
   "execution_count": 23,
   "metadata": {},
   "outputs": [
    {
     "name": "stdout",
     "output_type": "stream",
     "text": [
      "1, 1, 2, 6, 24, 120, 720, 5040, "
     ]
    }
   ],
   "source": [
    "for i in range(8):\n",
    "    x = fatt(i)\n",
    "    print(x, end = ', ')"
   ]
  },
  {
   "attachments": {},
   "cell_type": "markdown",
   "metadata": {},
   "source": [
    "## Esercizio 2"
   ]
  },
  {
   "cell_type": "code",
   "execution_count": 24,
   "metadata": {},
   "outputs": [],
   "source": [
    "def fib(x):\n",
    "    if x <= 1:\n",
    "        return x\n",
    "    else:\n",
    "        return fib(x - 1) + fib(x - 2)"
   ]
  },
  {
   "cell_type": "code",
   "execution_count": 25,
   "metadata": {},
   "outputs": [
    {
     "name": "stdout",
     "output_type": "stream",
     "text": [
      "0, 1, 1, 2, 3, 5, 8, 13, "
     ]
    }
   ],
   "source": [
    "for i in range(8):\n",
    "    x = fib(i)\n",
    "    print(x, end = ', ')"
   ]
  },
  {
   "attachments": {},
   "cell_type": "markdown",
   "metadata": {},
   "source": [
    "## Esercizio 3"
   ]
  },
  {
   "cell_type": "code",
   "execution_count": 26,
   "metadata": {},
   "outputs": [
    {
     "data": {
      "text/plain": [
       "[6, 7, 8, 9, 0, 1, 2, 3, 4, 5]"
      ]
     },
     "execution_count": 26,
     "metadata": {},
     "output_type": "execute_result"
    }
   ],
   "source": [
    "lista = [1, 2, 3, 4, 5, 6, 7, 8, 9, 0]\n",
    "l = len(lista)\n",
    "nuova_lista = lista[l//2:] + lista[:l//2]\n",
    "nuova_lista"
   ]
  },
  {
   "attachments": {},
   "cell_type": "markdown",
   "metadata": {},
   "source": [
    "## Esercizio 4"
   ]
  },
  {
   "cell_type": "code",
   "execution_count": 27,
   "metadata": {},
   "outputs": [],
   "source": [
    "lista_funzioni = [\n",
    "    lambda x: 1,\n",
    "    lambda x: x,\n",
    "    lambda x: x**2,\n",
    "    lambda x: x**3\n",
    "]"
   ]
  },
  {
   "cell_type": "code",
   "execution_count": 28,
   "metadata": {},
   "outputs": [
    {
     "data": {
      "text/plain": [
       "1"
      ]
     },
     "execution_count": 28,
     "metadata": {},
     "output_type": "execute_result"
    }
   ],
   "source": [
    "lista_funzioni[0](0)"
   ]
  },
  {
   "cell_type": "code",
   "execution_count": 29,
   "metadata": {},
   "outputs": [
    {
     "data": {
      "text/plain": [
       "1"
      ]
     },
     "execution_count": 29,
     "metadata": {},
     "output_type": "execute_result"
    }
   ],
   "source": [
    "lista_funzioni[1](1)"
   ]
  },
  {
   "cell_type": "code",
   "execution_count": 30,
   "metadata": {},
   "outputs": [
    {
     "data": {
      "text/plain": [
       "4"
      ]
     },
     "execution_count": 30,
     "metadata": {},
     "output_type": "execute_result"
    }
   ],
   "source": [
    "lista_funzioni[2](2)"
   ]
  },
  {
   "cell_type": "code",
   "execution_count": 31,
   "metadata": {},
   "outputs": [
    {
     "data": {
      "text/plain": [
       "27"
      ]
     },
     "execution_count": 31,
     "metadata": {},
     "output_type": "execute_result"
    }
   ],
   "source": [
    "lista_funzioni[3](3)"
   ]
  },
  {
   "attachments": {},
   "cell_type": "markdown",
   "metadata": {},
   "source": [
    "## Esercizio 5"
   ]
  },
  {
   "cell_type": "code",
   "execution_count": 32,
   "metadata": {},
   "outputs": [],
   "source": [
    "def scacchiera():\n",
    "    scacchiera = [[1] * 8 for _ in range(8)]\n",
    "    for i in range(8):\n",
    "        for j in range(8):\n",
    "            scacchiera[i][j] = (i + j) % 2\n",
    "    return scacchiera"
   ]
  },
  {
   "cell_type": "code",
   "execution_count": 33,
   "metadata": {},
   "outputs": [
    {
     "data": {
      "text/plain": [
       "[[0, 1, 0, 1, 0, 1, 0, 1],\n",
       " [1, 0, 1, 0, 1, 0, 1, 0],\n",
       " [0, 1, 0, 1, 0, 1, 0, 1],\n",
       " [1, 0, 1, 0, 1, 0, 1, 0],\n",
       " [0, 1, 0, 1, 0, 1, 0, 1],\n",
       " [1, 0, 1, 0, 1, 0, 1, 0],\n",
       " [0, 1, 0, 1, 0, 1, 0, 1],\n",
       " [1, 0, 1, 0, 1, 0, 1, 0]]"
      ]
     },
     "execution_count": 33,
     "metadata": {},
     "output_type": "execute_result"
    }
   ],
   "source": [
    "scacchiera()"
   ]
  },
  {
   "attachments": {},
   "cell_type": "markdown",
   "metadata": {},
   "source": [
    "## Esercizio 6"
   ]
  },
  {
   "cell_type": "code",
   "execution_count": 34,
   "metadata": {},
   "outputs": [],
   "source": [
    "from random import shuffle"
   ]
  },
  {
   "cell_type": "code",
   "execution_count": 35,
   "metadata": {},
   "outputs": [
    {
     "data": {
      "text/plain": [
       "[2, 9, 5, 3, 4, 7, 0, 6, 8]"
      ]
     },
     "execution_count": 35,
     "metadata": {},
     "output_type": "execute_result"
    }
   ],
   "source": [
    "lista = [1,2,3,4,5,6,7,8,9]\n",
    "shuffle(lista)\n",
    "minimo = min(lista)\n",
    "index_minimo = lista.index(minimo)\n",
    "lista[index_minimo] = 0\n",
    "lista"
   ]
  },
  {
   "attachments": {},
   "cell_type": "markdown",
   "metadata": {},
   "source": [
    "## Esercizio 8"
   ]
  },
  {
   "cell_type": "code",
   "execution_count": 36,
   "metadata": {},
   "outputs": [],
   "source": [
    "def riempi(lista, numero):\n",
    "    for i, _ in enumerate(lista):\n",
    "        lista[i] = numero"
   ]
  },
  {
   "cell_type": "code",
   "execution_count": 37,
   "metadata": {},
   "outputs": [
    {
     "data": {
      "text/plain": [
       "[0, 0, 0, 0, 0, 0, 0, 0, 0]"
      ]
     },
     "execution_count": 37,
     "metadata": {},
     "output_type": "execute_result"
    }
   ],
   "source": [
    "lista = [1,2,3,4,5,6,7,8,9]\n",
    "riempi(lista, 0)\n",
    "lista"
   ]
  }
 ],
 "metadata": {
  "kernelspec": {
   "display_name": "Python 3",
   "language": "python",
   "name": "python3"
  },
  "language_info": {
   "codemirror_mode": {
    "name": "ipython",
    "version": 3
   },
   "file_extension": ".py",
   "mimetype": "text/x-python",
   "name": "python",
   "nbconvert_exporter": "python",
   "pygments_lexer": "ipython3",
   "version": "3.11.2"
  },
  "orig_nbformat": 4
 },
 "nbformat": 4,
 "nbformat_minor": 2
}
