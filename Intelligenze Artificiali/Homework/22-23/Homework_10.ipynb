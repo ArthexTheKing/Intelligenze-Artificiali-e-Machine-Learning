{
 "cells": [
  {
   "cell_type": "code",
   "execution_count": 117,
   "metadata": {},
   "outputs": [],
   "source": [
    "from random import sample, random\n",
    "from math import exp"
   ]
  },
  {
   "cell_type": "code",
   "execution_count": 118,
   "metadata": {},
   "outputs": [],
   "source": [
    "grafo = {\n",
    "\n",
    "    'A': [['B', 4], ['C', 2], ['D',  1], ['E',  2]],\n",
    "    'B': [['A', 4], ['C', 1], ['D', 2], ['E', 3]],\n",
    "    'C': [['A', 2], ['B', 1], ['D', 3], ['E',  2]],\n",
    "    'D': [['A', 1], ['B', 2], ['C',  3], ['E',  2]],\n",
    "    'E': [['A', 2], ['B',  3], ['C',  2], ['D',  2]]\n",
    "\n",
    "}"
   ]
  },
  {
   "cell_type": "code",
   "execution_count": 119,
   "metadata": {},
   "outputs": [],
   "source": [
    "def genera_stato_iniziale():\n",
    "    return list(grafo.keys())"
   ]
  },
  {
   "cell_type": "code",
   "execution_count": 120,
   "metadata": {},
   "outputs": [],
   "source": [
    "def funzione_di_succesione(stato: list):\n",
    "    stato_successivo = stato.copy()\n",
    "    citta1, citta2 = sample(range(5), 2)\n",
    "\n",
    "    temp = stato_successivo[citta1]\n",
    "    stato_successivo[citta1] = stato_successivo[citta2]\n",
    "    stato_successivo[citta2] = temp\n",
    "\n",
    "    return stato_successivo"
   ]
  },
  {
   "cell_type": "code",
   "execution_count": 121,
   "metadata": {},
   "outputs": [],
   "source": [
    "def funzione_di_valutazione(stato: list):\n",
    "    distanza_totale = 0\n",
    "    for i, citta in enumerate(stato):\n",
    "        lista_successori = grafo[citta]\n",
    "        citta_successiva = None\n",
    "        if i < len(stato) - 1:\n",
    "            citta_successiva = stato[i + 1]\n",
    "        else:\n",
    "            citta_successiva = stato[0]\n",
    "        for citta, distanza in lista_successori:\n",
    "            if citta == citta_successiva:\n",
    "                distanza_totale += distanza\n",
    "                break\n",
    "    return distanza_totale"
   ]
  },
  {
   "attachments": {},
   "cell_type": "markdown",
   "metadata": {},
   "source": [
    "### Iperparametri"
   ]
  },
  {
   "cell_type": "code",
   "execution_count": 122,
   "metadata": {},
   "outputs": [],
   "source": [
    "TEMPERATURA_INIZIALE = 10\n",
    "TEMPERATURA_FINALE = 9\n",
    "STEP = 20\n",
    "FATTORE_DI_RIDUZIONE = 0.99"
   ]
  },
  {
   "cell_type": "code",
   "execution_count": 123,
   "metadata": {},
   "outputs": [],
   "source": [
    "def simulated_annealing():\n",
    "    stato_attuale = genera_stato_iniziale()\n",
    "    stato_attuale_val = funzione_di_valutazione(stato_attuale)\n",
    "\n",
    "    stato_best = stato_attuale\n",
    "    stato_best_val = stato_attuale_val\n",
    "\n",
    "    temperatura_attuale = TEMPERATURA_INIZIALE\n",
    "\n",
    "    while temperatura_attuale > TEMPERATURA_FINALE:\n",
    "\n",
    "        for _ in range(STEP):\n",
    "            stato_successivo = funzione_di_succesione(stato_attuale)\n",
    "            stato_successivo_val = funzione_di_valutazione(stato_successivo)\n",
    "\n",
    "            usa_nuovo = False\n",
    "\n",
    "            if stato_successivo_val < stato_attuale_val:\n",
    "                usa_nuovo = True\n",
    "            else:\n",
    "                if random() < exp(- (stato_successivo_val - stato_attuale_val) / temperatura_attuale):\n",
    "                    usa_nuovo = True\n",
    "\n",
    "            if usa_nuovo:\n",
    "                stato_attuale = stato_successivo\n",
    "                stato_attuale_val = stato_successivo_val\n",
    "\n",
    "                if stato_attuale_val < stato_best_val:\n",
    "                    stato_best = stato_attuale\n",
    "                    stato_best_val = stato_attuale_val\n",
    "        \n",
    "        print(f'Temperatura: {temperatura_attuale}, Distanza totale = {stato_best_val}')\n",
    "\n",
    "        temperatura_attuale *= FATTORE_DI_RIDUZIONE\n",
    "    \n",
    "    return stato_best + [stato_best[0]], stato_best_val"
   ]
  },
  {
   "cell_type": "code",
   "execution_count": 124,
   "metadata": {},
   "outputs": [
    {
     "name": "stdout",
     "output_type": "stream",
     "text": [
      "Temperatura: 10, Distanza totale = 8\n",
      "Temperatura: 9.9, Distanza totale = 8\n",
      "Temperatura: 9.801, Distanza totale = 8\n",
      "Temperatura: 9.70299, Distanza totale = 8\n",
      "Temperatura: 9.605960099999999, Distanza totale = 8\n",
      "Temperatura: 9.509900498999999, Distanza totale = 8\n",
      "Temperatura: 9.414801494009998, Distanza totale = 8\n",
      "Temperatura: 9.320653479069898, Distanza totale = 8\n",
      "Temperatura: 9.2274469442792, Distanza totale = 8\n",
      "Temperatura: 9.135172474836407, Distanza totale = 8\n",
      "Temperatura: 9.043820750088043, Distanza totale = 8\n"
     ]
    }
   ],
   "source": [
    "stato_soluzione, distanza = simulated_annealing()"
   ]
  },
  {
   "cell_type": "code",
   "execution_count": 125,
   "metadata": {},
   "outputs": [
    {
     "data": {
      "text/plain": [
       "['B', 'C', 'E', 'A', 'D', 'B']"
      ]
     },
     "execution_count": 125,
     "metadata": {},
     "output_type": "execute_result"
    }
   ],
   "source": [
    "stato_soluzione"
   ]
  },
  {
   "cell_type": "code",
   "execution_count": 126,
   "metadata": {},
   "outputs": [
    {
     "data": {
      "text/plain": [
       "8"
      ]
     },
     "execution_count": 126,
     "metadata": {},
     "output_type": "execute_result"
    }
   ],
   "source": [
    "distanza"
   ]
  }
 ],
 "metadata": {
  "kernelspec": {
   "display_name": "DataScience",
   "language": "python",
   "name": "python3"
  },
  "language_info": {
   "codemirror_mode": {
    "name": "ipython",
    "version": 3
   },
   "file_extension": ".py",
   "mimetype": "text/x-python",
   "name": "python",
   "nbconvert_exporter": "python",
   "pygments_lexer": "ipython3",
   "version": "3.11.2"
  },
  "orig_nbformat": 4
 },
 "nbformat": 4,
 "nbformat_minor": 2
}
