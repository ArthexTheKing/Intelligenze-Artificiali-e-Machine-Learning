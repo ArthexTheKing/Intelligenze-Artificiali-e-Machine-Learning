{
 "cells": [
  {
   "attachments": {},
   "cell_type": "markdown",
   "metadata": {},
   "source": [
    "## Esercizio 2"
   ]
  },
  {
   "cell_type": "code",
   "execution_count": null,
   "metadata": {},
   "outputs": [],
   "source": [
    "class Nodo:\n",
    "    next: 'Nodo'\n",
    "    prev: 'Nodo'\n",
    "\n",
    "    def __init__(self, data):\n",
    "        self.data = data\n",
    "        self.prev = None\n",
    "        self.next = None"
   ]
  },
  {
   "cell_type": "code",
   "execution_count": null,
   "metadata": {},
   "outputs": [],
   "source": [
    "class DoublyLinkedList:\n",
    "    __head: Nodo\n",
    "    __tail: Nodo\n",
    "\n",
    "    def __init__(self):\n",
    "        self.__head == None\n",
    "        self.__tail == None\n",
    "\n",
    "    def cancella_elemento(self, elemento):\n",
    "        trovato = False\n",
    "        if self.__head == None:\n",
    "            print('Lista Vuota')\n",
    "        elif self.__head.data == elemento:\n",
    "            self.__head = self.__head.next\n",
    "            self.__head.prev = None\n",
    "            trovato = True\n",
    "        elif self.__tail.data == elemento:\n",
    "            self.__tail = self.__tail.prev\n",
    "            self.__tail.next = None\n",
    "            trovato = True\n",
    "        else:\n",
    "            n = self.__head\n",
    "            while n.next != None:\n",
    "                if n.data == elemento:\n",
    "                    n.next.prev = n.prev\n",
    "                    n.prev.next = n.next\n",
    "                    trovato = True\n",
    "                    break\n",
    "                else:\n",
    "                    n = n.next\n",
    "        \n",
    "        if not trovato:\n",
    "            print('Elemento non trovato')"
   ]
  },
  {
   "attachments": {},
   "cell_type": "markdown",
   "metadata": {},
   "source": [
    "## Esercizio 3"
   ]
  },
  {
   "attachments": {},
   "cell_type": "markdown",
   "metadata": {},
   "source": [
    "## Simulated Annealing per il TSP"
   ]
  },
  {
   "attachments": {},
   "cell_type": "markdown",
   "metadata": {},
   "source": [
    "Funzioni ausiliare (molto probabilmente gia date)"
   ]
  },
  {
   "cell_type": "code",
   "execution_count": null,
   "metadata": {},
   "outputs": [],
   "source": [
    "def inizializza():\n",
    "    pass\n",
    "\n",
    "def energia(stato):\n",
    "    pass\n",
    "\n",
    "def tweak(stato):\n",
    "    pass"
   ]
  },
  {
   "attachments": {},
   "cell_type": "markdown",
   "metadata": {},
   "source": [
    "iperparametri"
   ]
  },
  {
   "cell_type": "code",
   "execution_count": null,
   "metadata": {},
   "outputs": [],
   "source": [
    "TEMPERATURA_INIZIALE = 30\n",
    "TEMPERATURA_FINALE = 0.2\n",
    "STEP = 100\n",
    "FATTORE_DI_RIDUZIONE = 0.99"
   ]
  },
  {
   "cell_type": "code",
   "execution_count": null,
   "metadata": {},
   "outputs": [],
   "source": [
    "from random import random\n",
    "from math import exp"
   ]
  },
  {
   "cell_type": "code",
   "execution_count": null,
   "metadata": {},
   "outputs": [],
   "source": [
    "def sa_tsp():\n",
    "    att = inizializza()\n",
    "    att_val = energia(att)\n",
    "\n",
    "    best = att\n",
    "    best_val = att_val\n",
    "\n",
    "    temp_attuale = TEMPERATURA_INIZIALE\n",
    "\n",
    "    while temp_attuale > TEMPERATURA_FINALE:\n",
    "\n",
    "        for _ in range(STEP):\n",
    "            succ = tweak(att)\n",
    "            succ_val = energia(succ)\n",
    "\n",
    "            usa_nuovo = False\n",
    "\n",
    "            if succ_val < att_val:\n",
    "                usa_nuovo = True\n",
    "            elif random < exp(- (succ_val - att_val) / temp_attuale):\n",
    "                usa_nuovo = True\n",
    "\n",
    "            if usa_nuovo:\n",
    "                att = succ\n",
    "                att_val = succ_val\n",
    "\n",
    "                if att_val < best_val:\n",
    "                    best = att\n",
    "                    best_val = att_val\n",
    "        \n",
    "        temp_attuale *= FATTORE_DI_RIDUZIONE\n",
    "    \n",
    "    return best, best_val"
   ]
  }
 ],
 "metadata": {
  "language_info": {
   "name": "python"
  },
  "orig_nbformat": 4
 },
 "nbformat": 4,
 "nbformat_minor": 2
}
