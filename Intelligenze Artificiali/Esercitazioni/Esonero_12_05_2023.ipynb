{
 "cells": [
  {
   "attachments": {},
   "cell_type": "markdown",
   "metadata": {},
   "source": [
    "## Esercizio 2"
   ]
  },
  {
   "attachments": {},
   "cell_type": "markdown",
   "metadata": {},
   "source": [
    "Scrivere in Python il codice per gestire una lista semplicemente concatenata ordinata\n",
    "\n",
    "(screvere i metodi di inserimento ordinato e cancellazione per elemento)"
   ]
  },
  {
   "cell_type": "code",
   "execution_count": null,
   "metadata": {},
   "outputs": [],
   "source": [
    "class Nodo:\n",
    "    next: 'Nodo'\n",
    "\n",
    "    def __init__(self, data):\n",
    "        self.data = data\n",
    "        self.next = None"
   ]
  },
  {
   "cell_type": "code",
   "execution_count": null,
   "metadata": {},
   "outputs": [],
   "source": [
    "class ListaOrdinata:\n",
    "    __head: Nodo\n",
    "    __tail: Nodo\n",
    "\n",
    "    def __init__(self):\n",
    "        self.__head = None\n",
    "        self.__tail = None\n",
    "\n",
    "    def put(self, nuovo_nodo: Nodo):\n",
    "        if self.__head == None:\n",
    "            self.__head = nuovo_nodo\n",
    "            self.__tail = nuovo_nodo\n",
    "        elif nuovo_nodo.data < self.__head.data:\n",
    "            nuovo_nodo.next = self.__head\n",
    "            self.__head = nuovo_nodo\n",
    "        elif nuovo_nodo.data > self.__tail.data:\n",
    "            self.__tail.next = nuovo_nodo\n",
    "            self.__tail = nuovo_nodo\n",
    "        else:\n",
    "            n = self.__head\n",
    "            while n.next != None and (nuovo_nodo.data > n.next.data):\n",
    "                if n.data == nuovo_nodo.data:\n",
    "                    print('Elemento già presente nella lista')\n",
    "                    return\n",
    "                else:\n",
    "                    n = n.next\n",
    "            nuovo_nodo.next = n.next\n",
    "            n.next = nuovo_nodo\n",
    "    \n",
    "    def remove(self, elemento):\n",
    "        trovato = False\n",
    "        if self.__head == None:\n",
    "            print('Lista Vuota')\n",
    "            return\n",
    "        elif self.__head.data == elemento:\n",
    "            self.__head = self.__head.next\n",
    "            trovato = True\n",
    "        elif self.__tail.data == elemento:\n",
    "            n = self.__head\n",
    "            while n.next.next != None:\n",
    "                n = n.next\n",
    "            n.next = None\n",
    "            self.__tail = n\n",
    "            trovato = True\n",
    "        else:\n",
    "            n = self.__tail\n",
    "            while n.next != None:\n",
    "                if n.next.data == elemento:\n",
    "                    n.next = n.next.next\n",
    "                    trovato = True\n",
    "                    break\n",
    "                else:\n",
    "                    n = n.next\n",
    "        \n",
    "        if not trovato:\n",
    "            print('Elemento non Trovato')"
   ]
  },
  {
   "attachments": {},
   "cell_type": "markdown",
   "metadata": {},
   "source": [
    "## Esercizio 3"
   ]
  },
  {
   "attachments": {},
   "cell_type": "markdown",
   "metadata": {},
   "source": [
    "Scrivere il codice del Simulated Annealing e descriverlo"
   ]
  },
  {
   "cell_type": "code",
   "execution_count": null,
   "metadata": {},
   "outputs": [],
   "source": [
    "from math import exp\n",
    "from random import random"
   ]
  },
  {
   "cell_type": "code",
   "execution_count": null,
   "metadata": {},
   "outputs": [],
   "source": [
    "def inizializza():\n",
    "    pass\n",
    "\n",
    "def tweak(stato):\n",
    "    pass\n",
    "\n",
    "def energia(stato):\n",
    "    pass"
   ]
  },
  {
   "cell_type": "code",
   "execution_count": null,
   "metadata": {},
   "outputs": [],
   "source": [
    "TEMP_INIZIALE = 30\n",
    "TEMP_FINALE = 0.2\n",
    "STEP = 100\n",
    "FATTORE_RIDUZIONE = 0.99"
   ]
  },
  {
   "cell_type": "code",
   "execution_count": null,
   "metadata": {},
   "outputs": [],
   "source": [
    "def sa():\n",
    "    stato_attuale = inizializza()\n",
    "    stato_attuale_val = energia(stato_attuale)\n",
    "\n",
    "    stato_best = stato_attuale\n",
    "    stato_best_val = stato_attuale_val\n",
    "\n",
    "    temp = TEMP_INIZIALE\n",
    "\n",
    "    while temp > TEMP_FINALE: # Condizione di terminazione\n",
    "\n",
    "        for _ in range(STEP):\n",
    "            stato_next = tweak(stato_attuale)\n",
    "            stato_next_val = energia(stato_next)\n",
    "\n",
    "            usa_nuovo = False\n",
    "\n",
    "            if stato_next_val > stato_attuale_val:\n",
    "                usa_nuovo = True\n",
    "            elif random() < exp(- (stato_next_val - stato_attuale_val) / temp):\n",
    "                usa_nuovo = True\n",
    "\n",
    "            if usa_nuovo:\n",
    "                stato_attuale = stato_next\n",
    "                stato_attuale_val = stato_attuale_val\n",
    "                if stato_best_val > stato_attuale:\n",
    "                    stato_best = stato_attuale\n",
    "                    stato_best_val = stato_attuale_val\n",
    "        \n",
    "        temp *= FATTORE_RIDUZIONE\n",
    "    \n",
    "    return stato_best, stato_best_val"
   ]
  },
  {
   "attachments": {},
   "cell_type": "markdown",
   "metadata": {},
   "source": [
    "Il simulated annealing è un algoritmo di ricerca locale che sfugge da ottimi licali sfruttando una probabilità di accettazione del nuovo stato anche se esso non è necessariamente migliore"
   ]
  }
 ],
 "metadata": {
  "language_info": {
   "name": "python"
  },
  "orig_nbformat": 4
 },
 "nbformat": 4,
 "nbformat_minor": 2
}
