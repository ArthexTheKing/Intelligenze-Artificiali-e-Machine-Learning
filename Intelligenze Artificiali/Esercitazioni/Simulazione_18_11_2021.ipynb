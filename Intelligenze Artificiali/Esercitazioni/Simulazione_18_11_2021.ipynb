{
 "cells": [
  {
   "attachments": {},
   "cell_type": "markdown",
   "metadata": {},
   "source": [
    "## Esercizio 2"
   ]
  },
  {
   "cell_type": "code",
   "execution_count": null,
   "metadata": {},
   "outputs": [],
   "source": [
    "class Nodo:\n",
    "    next: 'Nodo'\n",
    "    prev: 'Nodo'\n",
    "\n",
    "    def __init__(self, data):\n",
    "        self.next = None\n",
    "        self.prev = None\n",
    "        self.data = data\n",
    "\n",
    "class ListaDoppiamenteConcatenata:\n",
    "    __head: Nodo\n",
    "    __tail: Nodo\n",
    "\n",
    "    def __init__(self):\n",
    "        self.__head = None\n",
    "        self.__tail = None\n",
    "\n",
    "    def cancella_elemento(self, data):\n",
    "        trovato = False\n",
    "        if self.__head == None:\n",
    "            print('Lista Vuota')\n",
    "        elif self.__head.data == data:\n",
    "            self.__head = self.__head.next\n",
    "            self.__head.prev = None\n",
    "            trovato = True\n",
    "        elif self.__tail.data == data:\n",
    "            self.__tail = self.__tail.prev\n",
    "            self.__tail.next = None\n",
    "            trovato = True\n",
    "        else:\n",
    "            n = self.__head\n",
    "            while n.next != None:\n",
    "                if n.data == data:\n",
    "                    n.prev.next = n.next\n",
    "                    n.next.prev = n.prev\n",
    "                    trovato = True\n",
    "                    break\n",
    "                else:\n",
    "                    n = n.next\n",
    "        if not trovato:\n",
    "            print('Elemento non trovato')"
   ]
  },
  {
   "attachments": {},
   "cell_type": "markdown",
   "metadata": {},
   "source": [
    "## Esercizio 3"
   ]
  },
  {
   "cell_type": "code",
   "execution_count": null,
   "metadata": {},
   "outputs": [],
   "source": [
    "from math import exp\n",
    "from random import random"
   ]
  },
  {
   "cell_type": "code",
   "execution_count": null,
   "metadata": {},
   "outputs": [],
   "source": [
    "def tweak(stato):\n",
    "    pass\n",
    "\n",
    "def inizializza():\n",
    "    pass\n",
    "\n",
    "def energia(stato):\n",
    "    pass"
   ]
  },
  {
   "attachments": {},
   "cell_type": "markdown",
   "metadata": {},
   "source": [
    "### Iperparametri"
   ]
  },
  {
   "cell_type": "code",
   "execution_count": null,
   "metadata": {},
   "outputs": [],
   "source": [
    "DIMENSIONE = 8\n",
    "\n",
    "TEMPERATURA_INIZIALE = 30\n",
    "TEMPERATURA_FINALE = 0.2\n",
    "STEP = 100\n",
    "FATTORE_RIDUZIONE = 0.99"
   ]
  },
  {
   "cell_type": "code",
   "execution_count": 1,
   "metadata": {},
   "outputs": [],
   "source": [
    "def simulated_annealing_nRegine():\n",
    "\n",
    "    stato_corrente = inizializza(DIMENSIONE)\n",
    "    stato_corrente_val = energia(stato_corrente)\n",
    "\n",
    "    stato_best = stato_corrente\n",
    "    stato_best_val = stato_corrente_val\n",
    "\n",
    "    temperatura_attuale = TEMPERATURA_INIZIALE\n",
    "\n",
    "    while stato_best_val != 0 and temperatura_attuale > TEMPERATURA_FINALE:\n",
    "\n",
    "        for _ in range(STEP):\n",
    "\n",
    "            stato_successivo = tweak(stato_corrente)\n",
    "            stato_successivo_val = energia(stato_successivo)\n",
    "\n",
    "            usa_nuovo = False\n",
    "\n",
    "            if stato_successivo_val < stato_corrente_val:\n",
    "                usa_nuovo = True\n",
    "            else:\n",
    "                if random() < exp(- (stato_successivo_val - stato_corrente_val) / temperatura_attuale):\n",
    "                    usa_nuovo = True\n",
    "\n",
    "            if usa_nuovo:\n",
    "                stato_corrente = stato_successivo\n",
    "                stato_corrente_val = stato_successivo_val\n",
    "\n",
    "                if stato_corrente_val < stato_best_val:\n",
    "                    stato_best = stato_corrente\n",
    "                    stato_best_val = stato_corrente_val\n",
    "        \n",
    "        print(f'Temperatura: {temperatura_attuale}, Collisioni: {stato_best_val}')\n",
    "\n",
    "        temperatura_attuale *= FATTORE_RIDUZIONE\n",
    "    \n",
    "    return stato_best\n"
   ]
  }
 ],
 "metadata": {
  "kernelspec": {
   "display_name": "DataScience",
   "language": "python",
   "name": "python3"
  },
  "language_info": {
   "codemirror_mode": {
    "name": "ipython",
    "version": 3
   },
   "file_extension": ".py",
   "mimetype": "text/x-python",
   "name": "python",
   "nbconvert_exporter": "python",
   "pygments_lexer": "ipython3",
   "version": "3.11.2"
  },
  "orig_nbformat": 4
 },
 "nbformat": 4,
 "nbformat_minor": 2
}
