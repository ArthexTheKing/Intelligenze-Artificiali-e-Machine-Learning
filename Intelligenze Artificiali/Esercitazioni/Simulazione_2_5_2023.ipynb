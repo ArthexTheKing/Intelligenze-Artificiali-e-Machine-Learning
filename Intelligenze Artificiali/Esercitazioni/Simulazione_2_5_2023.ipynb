{
 "cells": [
  {
   "attachments": {},
   "cell_type": "markdown",
   "metadata": {},
   "source": [
    "## Esercizio 2"
   ]
  },
  {
   "cell_type": "code",
   "execution_count": 1,
   "metadata": {},
   "outputs": [],
   "source": [
    "class Nodo:\n",
    "    next: 'Nodo'\n",
    "\n",
    "    def __init__(self, data):\n",
    "        self.next = None\n",
    "        self.data = data"
   ]
  },
  {
   "cell_type": "code",
   "execution_count": 2,
   "metadata": {},
   "outputs": [],
   "source": [
    "class SortedLink:\n",
    "    __head: Nodo\n",
    "    __tail: Nodo\n",
    "\n",
    "    def __init__(self):\n",
    "        self.__head = None\n",
    "        self.__tail = None\n",
    "\n",
    "    def inserimento_decrescente(self, nuovo_nodo: Nodo):\n",
    "        if self.__head == None:\n",
    "            self.__head = nuovo_nodo\n",
    "            self.__tail = nuovo_nodo\n",
    "        elif nuovo_nodo.data > self.__head.data:\n",
    "            nuovo_nodo.next = self.__head\n",
    "            self.__head = nuovo_nodo\n",
    "        elif nuovo_nodo.data < self.__tail.data:\n",
    "            self.__tail.next = nuovo_nodo\n",
    "            self.__tail = nuovo_nodo\n",
    "        else:\n",
    "            n = self.__head\n",
    "            while n.next != None and nuovo_nodo.data < n.next.data:\n",
    "                if n.data == nuovo_nodo.data:\n",
    "                    print('Elemento gia presente in lista')\n",
    "                    return\n",
    "                else:\n",
    "                    n = n.next\n",
    "            nuovo_nodo.next = n.next\n",
    "            n.next = nuovo_nodo\n",
    "        "
   ]
  },
  {
   "attachments": {},
   "cell_type": "markdown",
   "metadata": {},
   "source": [
    "## Esercizio 3"
   ]
  },
  {
   "cell_type": "code",
   "execution_count": 3,
   "metadata": {},
   "outputs": [],
   "source": [
    "def crea_scacchiera():\n",
    "    scacchiera = [[1] * 8 for _ in range(8)]\n",
    "\n",
    "    for i in range(8):\n",
    "        for j in range(8):\n",
    "            scacchiera[i][j] = (i + j) % 2\n",
    "    \n",
    "    return scacchiera"
   ]
  },
  {
   "cell_type": "code",
   "execution_count": 4,
   "metadata": {},
   "outputs": [
    {
     "data": {
      "text/plain": [
       "[[0, 1, 0, 1, 0, 1, 0, 1],\n",
       " [1, 0, 1, 0, 1, 0, 1, 0],\n",
       " [0, 1, 0, 1, 0, 1, 0, 1],\n",
       " [1, 0, 1, 0, 1, 0, 1, 0],\n",
       " [0, 1, 0, 1, 0, 1, 0, 1],\n",
       " [1, 0, 1, 0, 1, 0, 1, 0],\n",
       " [0, 1, 0, 1, 0, 1, 0, 1],\n",
       " [1, 0, 1, 0, 1, 0, 1, 0]]"
      ]
     },
     "execution_count": 4,
     "metadata": {},
     "output_type": "execute_result"
    }
   ],
   "source": [
    "crea_scacchiera()"
   ]
  },
  {
   "attachments": {},
   "cell_type": "markdown",
   "metadata": {},
   "source": [
    "## Esercizio 4"
   ]
  },
  {
   "cell_type": "code",
   "execution_count": 5,
   "metadata": {},
   "outputs": [],
   "source": [
    "lista_funzioni = [\n",
    "    lambda x: 1,\n",
    "    lambda x: x,\n",
    "    lambda x: x**2,\n",
    "    lambda x: x**3\n",
    "]"
   ]
  },
  {
   "cell_type": "code",
   "execution_count": 6,
   "metadata": {},
   "outputs": [
    {
     "data": {
      "text/plain": [
       "1"
      ]
     },
     "execution_count": 6,
     "metadata": {},
     "output_type": "execute_result"
    }
   ],
   "source": [
    "lista_funzioni[0](10)"
   ]
  },
  {
   "cell_type": "code",
   "execution_count": 7,
   "metadata": {},
   "outputs": [
    {
     "data": {
      "text/plain": [
       "9"
      ]
     },
     "execution_count": 7,
     "metadata": {},
     "output_type": "execute_result"
    }
   ],
   "source": [
    "lista_funzioni[1](9)"
   ]
  },
  {
   "cell_type": "code",
   "execution_count": 8,
   "metadata": {},
   "outputs": [
    {
     "data": {
      "text/plain": [
       "4"
      ]
     },
     "execution_count": 8,
     "metadata": {},
     "output_type": "execute_result"
    }
   ],
   "source": [
    "lista_funzioni[2](2)"
   ]
  },
  {
   "cell_type": "code",
   "execution_count": 9,
   "metadata": {},
   "outputs": [
    {
     "data": {
      "text/plain": [
       "1000"
      ]
     },
     "execution_count": 9,
     "metadata": {},
     "output_type": "execute_result"
    }
   ],
   "source": [
    "lista_funzioni[3](10)"
   ]
  }
 ],
 "metadata": {
  "kernelspec": {
   "display_name": "DataScience",
   "language": "python",
   "name": "python3"
  },
  "language_info": {
   "codemirror_mode": {
    "name": "ipython",
    "version": 3
   },
   "file_extension": ".py",
   "mimetype": "text/x-python",
   "name": "python",
   "nbconvert_exporter": "python",
   "pygments_lexer": "ipython3",
   "version": "3.11.2"
  },
  "orig_nbformat": 4
 },
 "nbformat": 4,
 "nbformat_minor": 2
}
