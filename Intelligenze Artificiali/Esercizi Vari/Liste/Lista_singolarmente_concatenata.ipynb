{
 "cells": [
  {
   "cell_type": "code",
   "execution_count": null,
   "metadata": {},
   "outputs": [],
   "source": [
    "class Nodo:\n",
    "    next: 'Nodo'\n",
    "\n",
    "    def __init__(self, data):\n",
    "        self.data = data\n",
    "        self.next = None"
   ]
  },
  {
   "cell_type": "code",
   "execution_count": null,
   "metadata": {},
   "outputs": [],
   "source": [
    "class SingleLinkedList:\n",
    "    __head: Nodo\n",
    "    __tail: Nodo\n",
    "\n",
    "    def __init__(self):\n",
    "        self.__head = None\n",
    "        self.__tail = None\n",
    "\n",
    "    def inserimento_crescente(self, nuovo_nodo: Nodo):\n",
    "        if self.__head == None:\n",
    "            self.__head = nuovo_nodo\n",
    "            self.__tail = nuovo_nodo\n",
    "        elif nuovo_nodo.data < self.__head.data:\n",
    "            nuovo_nodo.next = self.__head\n",
    "            self.__head = nuovo_nodo\n",
    "        elif nuovo_nodo.data > self.__tail.data:\n",
    "            self.__tail.next = nuovo_nodo\n",
    "            self.__tail = nuovo_nodo\n",
    "        else:\n",
    "            n = self.__head\n",
    "            while n.next != None and nuovo_nodo.data > n.next.data:\n",
    "                n = n.next\n",
    "            nuovo_nodo.next = n.next\n",
    "            n.next = nuovo_nodo\n",
    "\n",
    "    def cancella_elemento(self, elemento):\n",
    "        trovato = False\n",
    "        if self.__head == None:\n",
    "            print('Lista Vuota')\n",
    "            return\n",
    "        elif self.__head.data == elemento:\n",
    "            self.__head = self.__head.next\n",
    "            trovato = True\n",
    "        elif self.__tail.data == elemento:\n",
    "            n = self.__head\n",
    "            while n.next.next != None:\n",
    "                n = n.next\n",
    "            self.__tail = n\n",
    "            self.__tail.next = None\n",
    "            trovato = True\n",
    "        else:\n",
    "            n = self.__head\n",
    "            while n.next != None and n.next.data == elemento:\n",
    "                n = n.next\n",
    "            n.next = n.next.next\n",
    "            trovato = True\n",
    "        if not trovato:\n",
    "            print('Elemento non trovato')"
   ]
  }
 ],
 "metadata": {
  "language_info": {
   "name": "python"
  },
  "orig_nbformat": 4
 },
 "nbformat": 4,
 "nbformat_minor": 2
}
