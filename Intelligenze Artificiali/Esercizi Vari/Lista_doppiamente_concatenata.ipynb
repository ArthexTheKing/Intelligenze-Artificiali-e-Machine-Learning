{
 "cells": [
  {
   "cell_type": "code",
   "execution_count": null,
   "metadata": {},
   "outputs": [],
   "source": [
    "class Nodo:\n",
    "    next: 'Nodo'\n",
    "    prev: 'Nodo'\n",
    "\n",
    "    def __init__(self, data):\n",
    "        self.data = data\n",
    "        self.prev = None\n",
    "        self.next = None"
   ]
  },
  {
   "cell_type": "code",
   "execution_count": null,
   "metadata": {},
   "outputs": [],
   "source": [
    "class ListaDoppiamenteConcatenata:\n",
    "    __head: Nodo\n",
    "    __tail: Nodo\n",
    "\n",
    "    def __init__(self):\n",
    "        self.__head = None\n",
    "        self.__tail = None\n",
    "\n",
    "    def inserimento_decrescente(self, nuovo_nodo: Nodo):\n",
    "        if self.__head == None:\n",
    "            self.__head = nuovo_nodo\n",
    "            self.__tail = nuovo_nodo\n",
    "        elif nuovo_nodo.data > self.__head.data:\n",
    "            nuovo_nodo.next = self.__head\n",
    "            self.__head.prev = nuovo_nodo\n",
    "            self.__head = nuovo_nodo\n",
    "        elif nuovo_nodo.data < self.__tail.data:\n",
    "            nuovo_nodo.prev = self.__tail\n",
    "            self.__tail.next = nuovo_nodo\n",
    "            self.__tail = nuovo_nodo\n",
    "        else:\n",
    "            n = self.__head\n",
    "            while n.next != None and nuovo_nodo.data < n.next.data:\n",
    "                if nuovo_nodo.data == n.data:\n",
    "                    print('Elemento gia presente in lista')\n",
    "                    return\n",
    "                else:\n",
    "                    n = n.next\n",
    "            nuovo_nodo.next = n.next\n",
    "            n.next.prev = nuovo_nodo\n",
    "            n.next = nuovo_nodo\n",
    "            nuovo_nodo.prev = n"
   ]
  }
 ],
 "metadata": {
  "language_info": {
   "name": "python"
  },
  "orig_nbformat": 4
 },
 "nbformat": 4,
 "nbformat_minor": 2
}
