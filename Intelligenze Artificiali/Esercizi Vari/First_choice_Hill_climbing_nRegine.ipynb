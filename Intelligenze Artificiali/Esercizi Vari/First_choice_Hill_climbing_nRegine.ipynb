{
 "cells": [
  {
   "cell_type": "code",
   "execution_count": 1,
   "metadata": {},
   "outputs": [],
   "source": [
    "from random import sample"
   ]
  },
  {
   "cell_type": "code",
   "execution_count": 2,
   "metadata": {},
   "outputs": [],
   "source": [
    "def genera_stato_iniziale(nRegine: int):\n",
    "    return [i for i in range(nRegine)]"
   ]
  },
  {
   "cell_type": "code",
   "execution_count": 3,
   "metadata": {},
   "outputs": [],
   "source": [
    "def funzione_succesione(stato: list):\n",
    "    next = stato.copy()\n",
    "    regina1, regina2 = sample(range(len(stato)), 2)\n",
    "    next[regina1], next[regina2] = next[regina2], next[regina1]\n",
    "    return next"
   ]
  },
  {
   "cell_type": "code",
   "execution_count": 4,
   "metadata": {},
   "outputs": [],
   "source": [
    "def funzione_valutazione(stato: list):\n",
    "    dimensione = len(stato)\n",
    "\n",
    "    scacchiera = [[0] * dimensione for _ in range(dimensione)]\n",
    "    \n",
    "    for i in range(dimensione):\n",
    "        scacchiera[stato[i]][i] = 'Q'\n",
    "        \n",
    "    dx = [1, -1, -1, 1]\n",
    "    dy = [1, 1, -1, -1]\n",
    "    \n",
    "    conflitti = 0\n",
    "\n",
    "    for i in range(dimensione):       \n",
    "        x, y = stato[i], i\n",
    "             \n",
    "        for j in range(4):\n",
    "            tempX, tempY = x, y\n",
    "            while True:\n",
    "                tempX += dx[j]\n",
    "                tempY += dy[j]\n",
    "                if (tempX < 0) or (tempX >= dimensione) or (tempY < 0) or (tempY >= dimensione):\n",
    "                    break                      \n",
    "                if scacchiera[tempX][tempY] == 'Q':\n",
    "                    conflitti += 1\n",
    "\n",
    "    return conflitti"
   ]
  },
  {
   "cell_type": "code",
   "execution_count": 5,
   "metadata": {},
   "outputs": [],
   "source": [
    "def stampa_scacchiera(soluzione):\n",
    "    dimensione = len(soluzione)\n",
    "\n",
    "    scacchiera = [[' . '] * dimensione for _ in range(dimensione)] \n",
    "\n",
    "    for i in range(dimensione):\n",
    "        scacchiera[soluzione[i]][i] = ' Q '\n",
    "    \n",
    "    print(\"SCACCHIERA\")\n",
    "    for x in range(dimensione):\n",
    "        for y in range(dimensione):\n",
    "            print(scacchiera[x][y], end=''),\n",
    "        print(\"\\n\")"
   ]
  },
  {
   "cell_type": "code",
   "execution_count": 6,
   "metadata": {},
   "outputs": [],
   "source": [
    "def first_choice_hill_climbing_nRegine(nRegine):\n",
    "    stato_attuale = genera_stato_iniziale(nRegine)\n",
    "    stato_attuale_val = funzione_valutazione(stato_attuale)\n",
    "\n",
    "    while stato_attuale_val != 0:\n",
    "        stato_successivo = funzione_succesione(stato_attuale)\n",
    "        stato_successivo_val = funzione_valutazione(stato_successivo)\n",
    "        \n",
    "        if stato_successivo_val < stato_attuale_val:\n",
    "            stato_attuale = stato_successivo\n",
    "            stato_attuale_val = stato_successivo_val\n",
    "\n",
    "    return stato_attuale"
   ]
  },
  {
   "cell_type": "code",
   "execution_count": 7,
   "metadata": {},
   "outputs": [],
   "source": [
    "stato_finale = first_choice_hill_climbing_nRegine(8)"
   ]
  },
  {
   "cell_type": "code",
   "execution_count": 8,
   "metadata": {},
   "outputs": [
    {
     "name": "stdout",
     "output_type": "stream",
     "text": [
      "SCACCHIERA\n",
      " .  .  .  .  Q  .  .  . \n",
      "\n",
      " Q  .  .  .  .  .  .  . \n",
      "\n",
      " .  .  .  Q  .  .  .  . \n",
      "\n",
      " .  .  .  .  .  Q  .  . \n",
      "\n",
      " .  .  .  .  .  .  .  Q \n",
      "\n",
      " .  Q  .  .  .  .  .  . \n",
      "\n",
      " .  .  .  .  .  .  Q  . \n",
      "\n",
      " .  .  Q  .  .  .  .  . \n",
      "\n"
     ]
    }
   ],
   "source": [
    "stampa_scacchiera(stato_finale)"
   ]
  }
 ],
 "metadata": {
  "kernelspec": {
   "display_name": "DataScience",
   "language": "python",
   "name": "python3"
  },
  "language_info": {
   "codemirror_mode": {
    "name": "ipython",
    "version": 3
   },
   "file_extension": ".py",
   "mimetype": "text/x-python",
   "name": "python",
   "nbconvert_exporter": "python",
   "pygments_lexer": "ipython3",
   "version": "3.11.2"
  },
  "orig_nbformat": 4
 },
 "nbformat": 4,
 "nbformat_minor": 2
}
