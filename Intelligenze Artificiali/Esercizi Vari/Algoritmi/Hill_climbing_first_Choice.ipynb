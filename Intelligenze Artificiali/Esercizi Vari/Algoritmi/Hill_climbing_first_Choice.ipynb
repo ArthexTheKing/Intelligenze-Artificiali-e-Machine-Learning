{
 "cells": [
  {
   "cell_type": "code",
   "execution_count": null,
   "metadata": {},
   "outputs": [],
   "source": [
    "def inizializza():\n",
    "    pass\n",
    "\n",
    "def eval_stato(stato):\n",
    "    pass\n",
    "\n",
    "def tweak(stato):\n",
    "    pass"
   ]
  },
  {
   "cell_type": "code",
   "execution_count": null,
   "metadata": {},
   "outputs": [],
   "source": [
    "def hill_climbing_first_choice():\n",
    "    stato_attuale = inizializza()\n",
    "    stato_attuale_val = eval_stato(stato_attuale)\n",
    "\n",
    "    while stato_attuale_val != 0:\n",
    "        stato_successore = tweak(stato_attuale)\n",
    "        stato_successore_val = eval_stato(stato_successore)\n",
    "\n",
    "        if stato_successore_val < stato_attuale_val:\n",
    "            stato_attuale = stato_successore\n",
    "            stato_attuale_val = stato_successore_val"
   ]
  }
 ],
 "metadata": {
  "language_info": {
   "name": "python"
  },
  "orig_nbformat": 4
 },
 "nbformat": 4,
 "nbformat_minor": 2
}
