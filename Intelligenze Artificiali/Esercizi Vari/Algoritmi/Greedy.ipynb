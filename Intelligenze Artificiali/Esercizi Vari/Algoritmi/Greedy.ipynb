{
 "cells": [
  {
   "cell_type": "code",
   "execution_count": null,
   "metadata": {},
   "outputs": [],
   "source": [
    "class NodoAlbero:\n",
    "\n",
    "    def __init__(self, stato: str, euristica, padre: 'NodoAlbero' = None):\n",
    "        self.stato = stato\n",
    "        self.euristica = euristica\n",
    "        self.padre = padre\n",
    "\n",
    "    def __lt__(self, obj: 'NodoAlbero'):\n",
    "        return self.euristica < obj.euristica\n",
    "    \n",
    "    def stampa_cammino(self):\n",
    "        if self.padre != None:\n",
    "            self.padre.stampa_cammino()\n",
    "        print(f'{self.stato} ->', end = ' ')"
   ]
  },
  {
   "cell_type": "code",
   "execution_count": null,
   "metadata": {},
   "outputs": [],
   "source": [
    "def verifica_stato_obiettivo(stato: str):\n",
    "    pass\n",
    "\n",
    "def ottieni_successori(stato: str):\n",
    "    pass\n",
    "\n",
    "def ottieni_euristica(stato: str):\n",
    "    pass"
   ]
  },
  {
   "cell_type": "code",
   "execution_count": null,
   "metadata": {},
   "outputs": [],
   "source": [
    "from queue import PriorityQueue"
   ]
  },
  {
   "cell_type": "code",
   "execution_count": null,
   "metadata": {},
   "outputs": [],
   "source": [
    "def greedy_tree(stato_iniziale: str):\n",
    "\n",
    "    frontiera = PriorityQueue()\n",
    "    frontiera.put(NodoAlbero(stato_iniziale, ottieni_euristica(stato_iniziale)))\n",
    "\n",
    "    while not frontiera.empty():\n",
    "\n",
    "        nodo_corrente: NodoAlbero = frontiera.get()\n",
    "        stato_corrente = nodo_corrente.stato\n",
    "\n",
    "        if verifica_stato_obiettivo(stato_corrente):\n",
    "            print('Stato obiettivo raggiunto\\nSoluzione:')\n",
    "            nodo_corrente.stampa_cammino()\n",
    "        \n",
    "        for stato_successore in ottieni_successori(stato_corrente):\n",
    "            frontiera.put(NodoAlbero(stato_successore, ottieni_euristica(stato_successore), nodo_corrente))"
   ]
  },
  {
   "cell_type": "code",
   "execution_count": null,
   "metadata": {},
   "outputs": [],
   "source": [
    "def greedy_graph(stato_iniziale: str):\n",
    "\n",
    "    frontiera = PriorityQueue()\n",
    "    frontiera.put(NodoAlbero(stato_iniziale, ottieni_euristica(stato_iniziale)))\n",
    "\n",
    "    close = []\n",
    "\n",
    "    while not frontiera.empty():\n",
    "\n",
    "        nodo_corrente: NodoAlbero = frontiera.get()\n",
    "        stato_corrente = nodo_corrente.stato\n",
    "\n",
    "        if verifica_stato_obiettivo(stato_corrente):\n",
    "            print('Stato obiettivo raggiunto\\nSoluzione:')\n",
    "            nodo_corrente.stampa_cammino()\n",
    "        else:\n",
    "            close.append(stato_corrente)\n",
    "        \n",
    "        for stato_successore in ottieni_successori(stato_corrente):\n",
    "            if stato_successore not in close:\n",
    "                frontiera.put(NodoAlbero(stato_successore, ottieni_euristica(stato_successore), nodo_corrente))"
   ]
  }
 ],
 "metadata": {
  "language_info": {
   "name": "python"
  },
  "orig_nbformat": 4
 },
 "nbformat": 4,
 "nbformat_minor": 2
}
