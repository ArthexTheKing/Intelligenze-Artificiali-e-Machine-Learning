{
 "cells": [
  {
   "cell_type": "code",
   "execution_count": null,
   "metadata": {},
   "outputs": [],
   "source": [
    "from math import exp\n",
    "from random import random"
   ]
  },
  {
   "cell_type": "code",
   "execution_count": null,
   "metadata": {},
   "outputs": [],
   "source": [
    "def inizializza():\n",
    "    pass\n",
    "\n",
    "def energia(stato):\n",
    "    pass\n",
    "\n",
    "def tweak(stato):\n",
    "    pass"
   ]
  },
  {
   "cell_type": "code",
   "execution_count": null,
   "metadata": {},
   "outputs": [],
   "source": [
    "TEMP_INIZIALE = 30\n",
    "TEMP_FINALE = 0.2\n",
    "STEP = 100\n",
    "FATT_RIDUZIONE = 0.99"
   ]
  },
  {
   "cell_type": "code",
   "execution_count": null,
   "metadata": {},
   "outputs": [],
   "source": [
    "def simulated_annealing():\n",
    "    attuale = inizializza()\n",
    "    attuale_val = energia(attuale)\n",
    "\n",
    "    best = attuale\n",
    "    best_val = attuale_val\n",
    "\n",
    "    temp = TEMP_INIZIALE\n",
    "\n",
    "    while temp > TEMP_FINALE:\n",
    "\n",
    "        for _ in range(STEP):\n",
    "            succ = tweak(attuale)\n",
    "            succ_val = energia(succ)\n",
    "\n",
    "            usa_nuovo = False\n",
    "\n",
    "            if succ_val < attuale_val: # > se devo massimizzare\n",
    "                usa_nuovo = True\n",
    "            elif random < exp(- (succ_val - attuale_val) / temp):\n",
    "                usa_nuovo = True\n",
    "\n",
    "            if usa_nuovo:\n",
    "                attuale = succ\n",
    "                attuale_val = succ_val\n",
    "                if attuale_val < best_val: # > se devo massimizzare\n",
    "                    best = attuale\n",
    "                    best_val = attuale_val\n",
    "        \n",
    "        temp *= FATT_RIDUZIONE\n",
    "    \n",
    "    return best, best_val"
   ]
  }
 ],
 "metadata": {
  "language_info": {
   "name": "python"
  },
  "orig_nbformat": 4
 },
 "nbformat": 4,
 "nbformat_minor": 2
}
