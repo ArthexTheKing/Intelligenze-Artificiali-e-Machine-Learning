{
 "cells": [
  {
   "cell_type": "code",
   "execution_count": null,
   "metadata": {},
   "outputs": [],
   "source": [
    "def euristica(stato: str):\n",
    "    pass\n",
    "\n",
    "def successori(stato: str):\n",
    "    pass\n",
    "\n",
    "def obiettivo(stato: str):\n",
    "    pass"
   ]
  },
  {
   "cell_type": "code",
   "execution_count": null,
   "metadata": {},
   "outputs": [],
   "source": [
    "class NodoAlbero:\n",
    "\n",
    "    def __init__(self, stato, cammino, val, padre: 'NodoAlbero'):\n",
    "        self.stato = stato\n",
    "        self.cammino = cammino\n",
    "        self.val = val\n",
    "        self.padre = padre\n",
    "\n",
    "    def __lt__(self, obj: 'NodoAlbero'):\n",
    "        return self.val < obj.val\n",
    "    \n",
    "    def stampa_cammino(self):\n",
    "        if self.padre != None:\n",
    "            self.padre.stampa_cammino()\n",
    "        print(f'{self.stato} ->', end = ' ')"
   ]
  },
  {
   "cell_type": "code",
   "execution_count": null,
   "metadata": {},
   "outputs": [],
   "source": [
    "from queue import PriorityQueue"
   ]
  },
  {
   "cell_type": "code",
   "execution_count": null,
   "metadata": {},
   "outputs": [],
   "source": [
    "def a_star_tree(stato_iniziale: str):\n",
    "\n",
    "    frontiera = PriorityQueue()\n",
    "    frontiera.put(NodoAlbero(stato_iniziale, 0, euristica(stato_iniziale)))\n",
    "\n",
    "    while not frontiera.empty():\n",
    "\n",
    "        nodo_corrente: NodoAlbero = frontiera.get()\n",
    "        stato_corrente = nodo_corrente.stato\n",
    "\n",
    "        if obiettivo(stato_corrente):\n",
    "            nodo_corrente.stampa_cammino()\n",
    "        \n",
    "        for stato_successore, distanza in successori(stato_corrente):\n",
    "            cammino_parziale = nodo_corrente.cammino + distanza\n",
    "            val = cammino_parziale + euristica(stato_successore)\n",
    "            frontiera.put(NodoAlbero(stato_successore, cammino_parziale, val, nodo_corrente))"
   ]
  },
  {
   "cell_type": "code",
   "execution_count": null,
   "metadata": {},
   "outputs": [],
   "source": [
    "def a_star_graph(stato_iniziale: str):\n",
    "\n",
    "    frontiera = PriorityQueue()\n",
    "    frontiera.put(NodoAlbero(stato_iniziale, 0, euristica(stato_iniziale)))\n",
    "\n",
    "    close = []\n",
    "\n",
    "    while not frontiera.empty():\n",
    "\n",
    "        nodo_corrente: NodoAlbero = frontiera.get()\n",
    "        stato_corrente = nodo_corrente.stato\n",
    "\n",
    "        if obiettivo(stato_corrente):\n",
    "            nodo_corrente.stampa_cammino()\n",
    "        else:\n",
    "            close.append(stato_corrente)\n",
    "        \n",
    "        for stato_successore, distanza in successori(stato_corrente):\n",
    "            if stato_successore not in close:\n",
    "                cammino_parziale = nodo_corrente.cammino + distanza\n",
    "                val = cammino_parziale + euristica(stato_successore)\n",
    "                frontiera.put(NodoAlbero(stato_successore, cammino_parziale, val, nodo_corrente))"
   ]
  }
 ],
 "metadata": {
  "language_info": {
   "name": "python"
  },
  "orig_nbformat": 4
 },
 "nbformat": 4,
 "nbformat_minor": 2
}
