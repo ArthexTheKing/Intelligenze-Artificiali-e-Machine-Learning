{
 "cells": [
  {
   "cell_type": "code",
   "execution_count": 1,
   "metadata": {},
   "outputs": [],
   "source": [
    "from random import randint, choice\n",
    "from string import printable"
   ]
  },
  {
   "cell_type": "code",
   "execution_count": 2,
   "metadata": {},
   "outputs": [],
   "source": [
    "def genera_stato_iniziale():\n",
    "    return [choice(printable) for _ in range(13)]"
   ]
  },
  {
   "cell_type": "code",
   "execution_count": 3,
   "metadata": {},
   "outputs": [],
   "source": [
    "def funzione_valutazione(stato: list):\n",
    "    \"\"\"\n",
    "    Valuta la Stringa come distanza carattere per carattere\\n\n",
    "    tra lo stato attuale e quello obiettivo\n",
    "    \"\"\"\n",
    "    stringa_obiettivo = list('Cabibbo Puzza')\n",
    "    valutazione = 0\n",
    "    for i in range(len(stringa_obiettivo)):\n",
    "        carattere1 = stato[i]\n",
    "        carattere2 = stringa_obiettivo[i]\n",
    "        diff = abs(ord(carattere1) - ord(carattere2))\n",
    "        valutazione += diff\n",
    "    return valutazione"
   ]
  },
  {
   "cell_type": "code",
   "execution_count": 4,
   "metadata": {},
   "outputs": [],
   "source": [
    "def funzione_successione(stato: list):\n",
    "    \"\"\"\n",
    "    Prende un carattere random della lista e lo cambia con un altro carattere scelto random\n",
    "    \"\"\"\n",
    "    stato_successore = stato.copy()\n",
    "    index = randint(0, len(stato) - 1)\n",
    "    stato_successore[index] = choice(printable)\n",
    "    return stato_successore\n"
   ]
  },
  {
   "cell_type": "code",
   "execution_count": 5,
   "metadata": {},
   "outputs": [],
   "source": [
    "def first_choice_hill_climbing(stato_iniziale: list):\n",
    "\n",
    "    stato_attuale = stato_iniziale\n",
    "    stato_attuale_val = funzione_valutazione(stato_iniziale)\n",
    "\n",
    "    while stato_attuale_val != 0:\n",
    "\n",
    "        stato_successivo = funzione_successione(stato_attuale)\n",
    "        stato_successivo_val = funzione_valutazione(stato_successivo)\n",
    "\n",
    "        if stato_successivo_val < stato_attuale_val:\n",
    "\n",
    "            stato_attuale = stato_successivo\n",
    "            stato_attuale_val = stato_successivo_val\n",
    "\n",
    "            print(f'Valutazione: {stato_attuale_val}, Stato attuale: {stato_attuale}')"
   ]
  },
  {
   "cell_type": "code",
   "execution_count": 6,
   "metadata": {},
   "outputs": [
    {
     "name": "stdout",
     "output_type": "stream",
     "text": [
      "Valutazione: 549, Stato attuale: ['V', 'J', \"'\", '@', '2', 'O', 'C', 'E', '~', '.', '4', 'S', '@']\n",
      "Valutazione: 504, Stato attuale: ['V', 'J', \"'\", '@', 'e', 'O', 'C', 'E', '~', '.', '4', 'S', '@']\n",
      "Valutazione: 492, Stato attuale: ['V', 'l', \"'\", '@', 'e', 'O', 'C', 'E', '~', '.', '4', 'S', '@']\n",
      "Valutazione: 473, Stato attuale: ['V', 'l', \"'\", '@', 'e', 'O', 'C', 'E', '~', '.', '4', 'S', 'o']\n",
      "Valutazione: 439, Stato attuale: ['V', 'l', 'I', '@', 'e', 'O', 'C', 'E', '~', '.', '4', 'S', 'o']\n",
      "Valutazione: 419, Stato attuale: ['V', 'l', 'I', '~', 'e', 'O', 'C', 'E', '~', '.', '4', 'S', 'o']\n",
      "Valutazione: 402, Stato attuale: ['V', 'l', 'I', '~', 'e', 'O', 'C', 'E', '3', '.', '4', 'S', 'o']\n",
      "Valutazione: 399, Stato attuale: ['V', 'l', 'I', '~', 'e', 'O', 'C', 'E', '3', '.', '7', 'S', 'o']\n",
      "Valutazione: 391, Stato attuale: ['V', 'l', 'I', '~', 'e', 'O', 'C', 'E', '3', '.', '7', '[', 'o']\n",
      "Valutazione: 382, Stato attuale: ['9', 'l', 'I', '~', 'e', 'O', 'C', 'E', '3', '.', '7', '[', 'o']\n",
      "Valutazione: 370, Stato attuale: ['9', 'l', 'I', '~', 'e', 'i', 'C', 'E', '3', '.', '7', '[', 'o']\n",
      "Valutazione: 327, Stato attuale: ['9', 'l', 'I', '~', 'e', 'i', 'C', 'E', '3', '.', 'b', '[', 'o']\n",
      "Valutazione: 288, Stato attuale: ['9', 'l', 'I', '~', 'e', 'i', 't', 'E', '3', '.', 'b', '[', 'o']\n",
      "Valutazione: 224, Stato attuale: ['9', 'l', 'I', '~', 'e', 'i', 't', 'E', '3', '|', 'b', '[', 'o']\n",
      "Valutazione: 221, Stato attuale: ['J', 'l', 'I', '~', 'e', 'i', 't', 'E', '3', '|', 'b', '[', 'o']\n",
      "Valutazione: 219, Stato attuale: ['>', 'l', 'I', '~', 'e', 'i', 't', 'E', '3', '|', 'b', '[', 'o']\n",
      "Valutazione: 191, Stato attuale: ['>', 'l', 'I', '~', 'e', 'i', 't', ')', '3', '|', 'b', '[', 'o']\n",
      "Valutazione: 190, Stato attuale: ['>', 'l', 'I', '~', 'e', 'i', 't', ')', '3', '|', 'b', '\\\\', 'o']\n",
      "Valutazione: 189, Stato attuale: ['>', 'l', 'I', '}', 'e', 'i', 't', ')', '3', '|', 'b', '\\\\', 'o']\n",
      "Valutazione: 170, Stato attuale: ['>', 'l', 'I', 'h', 'e', 'i', 't', ')', '3', '|', 'b', '\\\\', 'o']\n",
      "Valutazione: 166, Stato attuale: ['>', 'l', 'I', 'h', 'e', 'i', 't', ')', '3', '|', 'b', '`', 'o']\n",
      "Valutazione: 160, Stato attuale: ['>', 'f', 'I', 'h', 'e', 'i', 't', ')', '3', '|', 'b', '`', 'o']\n",
      "Valutazione: 159, Stato attuale: ['>', 'f', 'I', 'h', 'e', 'i', 't', ')', '3', '{', 'b', '`', 'o']\n",
      "Valutazione: 151, Stato attuale: ['>', 'f', 'I', 'h', 'e', 'i', 't', ')', 'e', '{', 'b', '`', 'o']\n",
      "Valutazione: 145, Stato attuale: ['>', 'f', 'I', 'h', 'e', 'i', 't', ')', 'e', 'u', 'b', '`', 'o']\n",
      "Valutazione: 130, Stato attuale: ['>', 'f', 'X', 'h', 'e', 'i', 't', ')', 'e', 'u', 'b', '`', 'o']\n",
      "Valutazione: 112, Stato attuale: ['>', 'f', 'X', 'h', 'e', 'i', 't', ')', 'M', 'u', 'b', '`', 'o']\n",
      "Valutazione: 110, Stato attuale: ['>', 'f', 'X', 'h', 'c', 'i', 't', ')', 'M', 'u', 'b', '`', 'o']\n",
      "Valutazione: 87, Stato attuale: ['>', 'f', 'X', 'h', 'c', 'i', 't', ')', 'M', 'u', 'b', 'w', 'o']\n",
      "Valutazione: 86, Stato attuale: ['>', 'f', 'X', 'h', 'c', 'i', 't', ')', 'R', 'u', 'b', 'w', 'o']\n",
      "Valutazione: 78, Stato attuale: ['>', 'f', 'X', 'h', 'c', 'i', 't', '!', 'R', 'u', 'b', 'w', 'o']\n",
      "Valutazione: 77, Stato attuale: ['>', 'f', 'X', 'h', 'b', 'i', 't', '!', 'R', 'u', 'b', 'w', 'o']\n",
      "Valutazione: 73, Stato attuale: ['>', 'f', 'X', 'h', 'b', 'i', 't', '!', 'R', 'u', 'b', 'w', 'W']\n",
      "Valutazione: 71, Stato attuale: ['>', 'f', 'X', 'h', 'b', 'i', 't', '!', 'R', 'u', 'b', 'w', 'i']\n",
      "Valutazione: 69, Stato attuale: ['>', 'f', 'Z', 'h', 'b', 'i', 't', '!', 'R', 'u', 'b', 'w', 'i']\n",
      "Valutazione: 65, Stato attuale: ['>', 'f', 'Z', 'h', 'b', '_', 't', '!', 'R', 'u', 'b', 'w', 'i']\n",
      "Valutazione: 57, Stato attuale: ['>', 'f', 'b', 'h', 'b', '_', 't', '!', 'R', 'u', 'b', 'w', 'i']\n",
      "Valutazione: 54, Stato attuale: ['>', 'f', 'b', 'h', 'b', '_', 'q', '!', 'R', 'u', 'b', 'w', 'i']\n",
      "Valutazione: 50, Stato attuale: ['>', 'f', 'b', 'h', 'b', '_', 'q', '!', 'R', 'u', 'b', 'w', 'e']\n",
      "Valutazione: 49, Stato attuale: ['>', 'f', 'b', 'h', 'b', '_', 'q', '!', 'R', 'u', 'c', 'w', 'e']\n",
      "Valutazione: 46, Stato attuale: ['>', '_', 'b', 'h', 'b', '_', 'q', '!', 'R', 'u', 'c', 'w', 'e']\n",
      "Valutazione: 45, Stato attuale: ['>', '_', 'b', 'h', 'b', '_', 'n', '!', 'R', 'u', 'c', 'w', 'e']\n",
      "Valutazione: 44, Stato attuale: ['?', '_', 'b', 'h', 'b', '_', 'n', '!', 'R', 'u', 'c', 'w', 'e']\n",
      "Valutazione: 43, Stato attuale: ['?', '_', 'b', 'h', 'b', '_', 'o', '!', 'R', 'u', 'c', 'w', 'e']\n",
      "Valutazione: 29, Stato attuale: ['?', '_', 'b', 'h', 'b', '_', 'o', '!', 'R', 'u', 'q', 'w', 'e']\n",
      "Valutazione: 23, Stato attuale: ['?', '_', 'b', 'h', 'b', '_', 'o', '!', 'R', 'u', '}', 'w', 'e']\n",
      "Valutazione: 22, Stato attuale: ['F', '_', 'b', 'h', 'b', '_', 'o', '!', 'R', 'u', '}', 'w', 'e']\n",
      "Valutazione: 20, Stato attuale: ['F', '_', 'b', 'h', 'b', '_', 'o', '!', 'R', 'u', '}', 'w', 'c']\n",
      "Valutazione: 19, Stato attuale: ['F', '_', 'b', 'h', 'b', '_', 'o', '!', 'R', 'u', '}', 'w', '`']\n",
      "Valutazione: 17, Stato attuale: ['F', '_', 'b', 'h', 'b', '_', 'o', '!', 'P', 'u', '}', 'w', '`']\n",
      "Valutazione: 15, Stato attuale: ['B', '_', 'b', 'h', 'b', '_', 'o', '!', 'P', 'u', '}', 'w', '`']\n",
      "Valutazione: 12, Stato attuale: ['B', '_', 'b', 'h', 'b', '_', 'o', '!', 'P', 'u', '}', 'z', '`']\n",
      "Valutazione: 10, Stato attuale: ['B', '_', 'b', 'h', 'b', '_', 'o', '!', 'P', 'u', 'y', 'z', '`']\n",
      "Valutazione: 9, Stato attuale: ['B', '_', 'b', 'h', 'b', '`', 'o', '!', 'P', 'u', 'y', 'z', '`']\n",
      "Valutazione: 7, Stato attuale: ['B', 'a', 'b', 'h', 'b', '`', 'o', '!', 'P', 'u', 'y', 'z', '`']\n",
      "Valutazione: 6, Stato attuale: ['B', 'a', 'b', 'h', 'b', '`', 'o', '!', 'P', 'u', 'y', 'z', 'a']\n",
      "Valutazione: 4, Stato attuale: ['B', 'a', 'b', 'h', 'b', 'b', 'o', '!', 'P', 'u', 'y', 'z', 'a']\n",
      "Valutazione: 3, Stato attuale: ['B', 'a', 'b', 'h', 'b', 'b', 'o', ' ', 'P', 'u', 'y', 'z', 'a']\n",
      "Valutazione: 2, Stato attuale: ['B', 'a', 'b', 'i', 'b', 'b', 'o', ' ', 'P', 'u', 'y', 'z', 'a']\n",
      "Valutazione: 1, Stato attuale: ['B', 'a', 'b', 'i', 'b', 'b', 'o', ' ', 'P', 'u', 'z', 'z', 'a']\n",
      "Valutazione: 0, Stato attuale: ['C', 'a', 'b', 'i', 'b', 'b', 'o', ' ', 'P', 'u', 'z', 'z', 'a']\n"
     ]
    }
   ],
   "source": [
    "first_choice_hill_climbing(genera_stato_iniziale())"
   ]
  }
 ],
 "metadata": {
  "kernelspec": {
   "display_name": "DataScience",
   "language": "python",
   "name": "python3"
  },
  "language_info": {
   "codemirror_mode": {
    "name": "ipython",
    "version": 3
   },
   "file_extension": ".py",
   "mimetype": "text/x-python",
   "name": "python",
   "nbconvert_exporter": "python",
   "pygments_lexer": "ipython3",
   "version": "3.11.2"
  },
  "orig_nbformat": 4
 },
 "nbformat": 4,
 "nbformat_minor": 2
}
