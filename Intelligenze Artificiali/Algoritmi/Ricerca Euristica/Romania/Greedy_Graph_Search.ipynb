{
 "cells": [
  {
   "cell_type": "code",
   "execution_count": 1,
   "metadata": {},
   "outputs": [],
   "source": [
    "from romania import Romania\n",
    "from queue import PriorityQueue"
   ]
  },
  {
   "cell_type": "code",
   "execution_count": 2,
   "metadata": {},
   "outputs": [],
   "source": [
    "class NodoAlbero:\n",
    "\n",
    "    def __init__(self, stato: str, euristica: int, padre: 'NodoAlbero' = None):\n",
    "        self.stato = stato\n",
    "        self.euristica = euristica\n",
    "        self.padre = padre\n",
    "    \n",
    "    def __lt__(self, obj: 'NodoAlbero'):\n",
    "        return self.euristica < obj.euristica\n",
    "    \n",
    "    def stampa_cammino(self):\n",
    "        if self.padre != None:\n",
    "            self.padre.stampa_cammino()\n",
    "        print(f'{self.stato} ->', end = ' ')"
   ]
  },
  {
   "cell_type": "code",
   "execution_count": 3,
   "metadata": {},
   "outputs": [],
   "source": [
    "def greedy_graph_search(problema: Romania):\n",
    "    stato_iniziale = problema.stato_iniziale\n",
    "    euristica = problema.valore_euristico(stato_iniziale)\n",
    "\n",
    "    frontiera = PriorityQueue()\n",
    "    frontiera.put(NodoAlbero(stato_iniziale, euristica))\n",
    "\n",
    "    close = []\n",
    "\n",
    "    while not frontiera.empty():\n",
    "\n",
    "        nodo_corrente: NodoAlbero = frontiera.get()\n",
    "        stato_corrente = nodo_corrente.stato\n",
    "\n",
    "        if problema.verifica_stato_obiettivo(stato_corrente):\n",
    "            print('Stato obiettivo Raggiunto!')\n",
    "            print('Soluzione!')\n",
    "            nodo_corrente.stampa_cammino()\n",
    "            break\n",
    "        else:\n",
    "            close.append(stato_corrente)\n",
    "\n",
    "        stati_espansi = problema.stati_generati(stato_corrente)\n",
    "        for stato_espanso, _ in stati_espansi:\n",
    "            \n",
    "            if stato_espanso not in close:\n",
    "                euristica = problema.valore_euristico(stato_espanso)\n",
    "                frontiera.put(NodoAlbero(stato_espanso, euristica, nodo_corrente))"
   ]
  },
  {
   "cell_type": "code",
   "execution_count": 4,
   "metadata": {},
   "outputs": [
    {
     "name": "stdout",
     "output_type": "stream",
     "text": [
      "Stato obiettivo Raggiunto!\n",
      "Soluzione!\n",
      "Arad -> Sibiu -> Fagaras -> Bucarest -> "
     ]
    }
   ],
   "source": [
    "greedy_graph_search(Romania('Arad'))"
   ]
  }
 ],
 "metadata": {
  "kernelspec": {
   "display_name": "DataScience",
   "language": "python",
   "name": "python3"
  },
  "language_info": {
   "codemirror_mode": {
    "name": "ipython",
    "version": 3
   },
   "file_extension": ".py",
   "mimetype": "text/x-python",
   "name": "python",
   "nbconvert_exporter": "python",
   "pygments_lexer": "ipython3",
   "version": "3.11.2"
  },
  "orig_nbformat": 4
 },
 "nbformat": 4,
 "nbformat_minor": 2
}
